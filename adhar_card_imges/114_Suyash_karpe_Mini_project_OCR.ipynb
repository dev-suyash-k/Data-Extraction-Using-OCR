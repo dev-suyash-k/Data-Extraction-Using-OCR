{
 "cells": [
  {
   "cell_type": "code",
   "execution_count": 15,
   "id": "df509d44",
   "metadata": {},
   "outputs": [
    {
     "name": "stdout",
     "output_type": "stream",
     "text": [
      "['16/03/1991', '16/04/1995', '11/07/2009', '08/03/2012', '01/05/1993', '11/09/1993', '01/01/2011', '04/08/1996', '10/10/1998', '05/07/1990', '05-06-1965', '05/03/1997', '28/05/2000', '02/03/2003', '01/01/1984', '16/03/1991', '16/04/1995', '11/07/2009', '08/03/2012', '01/05/1993', '11/09/1993', '01/01/2011', '04/08/1996', '10/10/1998', '05/07/1990', '05-06-1965', '05/03/1997', '28/05/2000', '02/03/2003', '01/01/1984', '16/03/1991', '16/04/1995', '11/07/2009', '08/03/2012', '01/05/1993', '11/09/1993', '01/01/2011', '04/08/1996', '10/10/1998', '05/07/1990', '05-06-1965', '05/03/1997', '28/05/2000', '02/03/2003', '01/01/1984', '16/03/1991', '16/04/1995', '11/07/2009', '08/03/2012', '01/05/1993', '11/09/1993', '01/01/2011', '04/08/1996', '10/10/1998', '05/07/1990', '05-06-1965', '05/03/1997', '28/05/2000', '02/03/2003', '01/01/1984', '16/03/1991', '16/04/1995', '11/07/2009', '08/03/2012', '01/05/1993', '11/09/1993', '01/01/2011', '04/08/1996', '10/10/1998', '05/07/1990', '05-06-1965', '05/03/1997', '28/05/2000', '02/03/2003', '01/01/1984']\n"
     ]
    }
   ],
   "source": [
    "import re\n",
    "import os\n",
    "import glob\n",
    "import pytesseract\n",
    "\n",
    "tesseract_path = r'C:\\Program Files\\Tesseract-OCR\\tesseract.exe'\n",
    "\n",
    "pytesseract.pytesseract.tesseract_cmd = tesseract_path\n",
    "image_path = r'C:\\Users\\shrir\\Desktop\\velocity\\python practice\\My_Assignment\\adhar_card_imges\\**'\n",
    "adhar_list = glob.glob(image_path+'**.jpg')\n",
    "# print(adhar_list)\n",
    "file = open(r'C:\\Users\\shrir\\Desktop\\velocity\\project_file\\adhar_card_text.txt','a',encoding='UTF-8')\n",
    "for i in adhar_list:\n",
    "    text = pytesseract.image_to_string(i)\n",
    "#     print(text)\n",
    "    file.write(text)\n",
    "#     print('*'*50)\n",
    "file.close()    \n",
    "with open(r'C:\\Users\\shrir\\Desktop\\velocity\\project_file\\adhar_card_text.txt','r') as file1:\n",
    "    file_text = file1.read()\n",
    "dob = re.findall('\\d{0,2}[-/]\\d{0,2}[-/]\\d{4}',file_text)  \n",
    "print(dob)"
   ]
  },
  {
   "cell_type": "code",
   "execution_count": null,
   "id": "ada1b5db",
   "metadata": {},
   "outputs": [],
   "source": []
  }
 ],
 "metadata": {
  "kernelspec": {
   "display_name": "Python 3 (ipykernel)",
   "language": "python",
   "name": "python3"
  },
  "language_info": {
   "codemirror_mode": {
    "name": "ipython",
    "version": 3
   },
   "file_extension": ".py",
   "mimetype": "text/x-python",
   "name": "python",
   "nbconvert_exporter": "python",
   "pygments_lexer": "ipython3",
   "version": "3.10.4"
  }
 },
 "nbformat": 4,
 "nbformat_minor": 5
}
